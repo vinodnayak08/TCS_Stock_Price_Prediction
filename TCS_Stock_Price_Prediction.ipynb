{
 "cells": [
  {
   "cell_type": "markdown",
   "metadata": {},
   "source": [
    "# TCS Stock Price Prediction\n"
   ]
  },
  {
   "cell_type": "raw",
   "metadata": {},
   "source": [
    "In this notebook, you will perform the following steps:\n",
    "\n",
    "1. Import the libraries \n",
    "2. Read S&P500 data \n",
    "3. Define the explanatory variables\n",
    "4. Define the target variables\n",
    "5. Split the data into train and test\n",
    "6. Support Vector Classifier (SVC)\n",
    "7. Classifier accuracy\n",
    "8. Strategy implementation"
   ]
  },
  {
   "cell_type": "markdown",
   "metadata": {},
   "source": [
    "### Import the libraries"
   ]
  },
  {
   "cell_type": "code",
   "execution_count": 1,
   "metadata": {},
   "outputs": [],
   "source": [
    "# Machine learning\n",
    "from sklearn.svm import SVC\n",
    "from sklearn.metrics import accuracy_score\n",
    "\n",
    "# For data manipulation\n",
    "import pandas as pd\n",
    "import numpy as np\n",
    "\n",
    "# To plot\n",
    "import matplotlib.pyplot as plt\n",
    "plt.style.use('seaborn-darkgrid')\n",
    "\n",
    "# To ignore warnings\n",
    "import warnings\n",
    "warnings.filterwarnings(\"ignore\")"
   ]
  },
  {
   "cell_type": "markdown",
   "metadata": {},
   "source": [
    "### Read data "
   ]
  },
  {
   "cell_type": "code",
   "execution_count": 2,
   "metadata": {},
   "outputs": [
    {
     "data": {
      "text/html": [
       "<div>\n",
       "<style scoped>\n",
       "    .dataframe tbody tr th:only-of-type {\n",
       "        vertical-align: middle;\n",
       "    }\n",
       "\n",
       "    .dataframe tbody tr th {\n",
       "        vertical-align: top;\n",
       "    }\n",
       "\n",
       "    .dataframe thead th {\n",
       "        text-align: right;\n",
       "    }\n",
       "</style>\n",
       "<table border=\"1\" class=\"dataframe\">\n",
       "  <thead>\n",
       "    <tr style=\"text-align: right;\">\n",
       "      <th></th>\n",
       "      <th>Open</th>\n",
       "      <th>High</th>\n",
       "      <th>Low</th>\n",
       "      <th>Close</th>\n",
       "      <th>Volume</th>\n",
       "    </tr>\n",
       "    <tr>\n",
       "      <th>Date</th>\n",
       "      <th></th>\n",
       "      <th></th>\n",
       "      <th></th>\n",
       "      <th></th>\n",
       "      <th></th>\n",
       "    </tr>\n",
       "  </thead>\n",
       "  <tbody>\n",
       "    <tr>\n",
       "      <th>2016-06-22</th>\n",
       "      <td>1325.000000</td>\n",
       "      <td>1338.849976</td>\n",
       "      <td>1315.880005</td>\n",
       "      <td>1333.819946</td>\n",
       "      <td>1761712</td>\n",
       "    </tr>\n",
       "    <tr>\n",
       "      <th>2016-06-23</th>\n",
       "      <td>1327.500000</td>\n",
       "      <td>1329.750000</td>\n",
       "      <td>1312.650024</td>\n",
       "      <td>1322.680054</td>\n",
       "      <td>1397014</td>\n",
       "    </tr>\n",
       "    <tr>\n",
       "      <th>2016-06-24</th>\n",
       "      <td>1282.569946</td>\n",
       "      <td>1296.599976</td>\n",
       "      <td>1257.069946</td>\n",
       "      <td>1286.969971</td>\n",
       "      <td>3766586</td>\n",
       "    </tr>\n",
       "    <tr>\n",
       "      <th>2016-06-27</th>\n",
       "      <td>1273.500000</td>\n",
       "      <td>1273.500000</td>\n",
       "      <td>1241.319946</td>\n",
       "      <td>1247.930054</td>\n",
       "      <td>4272566</td>\n",
       "    </tr>\n",
       "    <tr>\n",
       "      <th>2016-06-28</th>\n",
       "      <td>1247.930054</td>\n",
       "      <td>1251.449951</td>\n",
       "      <td>1229.199951</td>\n",
       "      <td>1231.969971</td>\n",
       "      <td>4499524</td>\n",
       "    </tr>\n",
       "  </tbody>\n",
       "</table>\n",
       "</div>"
      ],
      "text/plain": [
       "                   Open         High          Low        Close   Volume\n",
       "Date                                                                   \n",
       "2016-06-22  1325.000000  1338.849976  1315.880005  1333.819946  1761712\n",
       "2016-06-23  1327.500000  1329.750000  1312.650024  1322.680054  1397014\n",
       "2016-06-24  1282.569946  1296.599976  1257.069946  1286.969971  3766586\n",
       "2016-06-27  1273.500000  1273.500000  1241.319946  1247.930054  4272566\n",
       "2016-06-28  1247.930054  1251.449951  1229.199951  1231.969971  4499524"
      ]
     },
     "execution_count": 2,
     "metadata": {},
     "output_type": "execute_result"
    }
   ],
   "source": [
    "# The data is stored in the directory 'data'\n",
    "path = 'D:\\data/'\n",
    "\n",
    "# Read the csv file using read_csv method of pandas\n",
    "Df = pd.read_csv(path + 'TCS.csv', index_col=0)\n",
    "\n",
    "# Convert index to datetime format\n",
    "Df.index = pd.to_datetime(Df.index)\n",
    "\n",
    "# Print the first five rows \n",
    "Df.head()"
   ]
  },
  {
   "cell_type": "markdown",
   "metadata": {},
   "source": [
    "### Define the explanatory variables"
   ]
  },
  {
   "cell_type": "code",
   "execution_count": 4,
   "metadata": {},
   "outputs": [
    {
     "data": {
      "text/html": [
       "<div>\n",
       "<style scoped>\n",
       "    .dataframe tbody tr th:only-of-type {\n",
       "        vertical-align: middle;\n",
       "    }\n",
       "\n",
       "    .dataframe tbody tr th {\n",
       "        vertical-align: top;\n",
       "    }\n",
       "\n",
       "    .dataframe thead th {\n",
       "        text-align: right;\n",
       "    }\n",
       "</style>\n",
       "<table border=\"1\" class=\"dataframe\">\n",
       "  <thead>\n",
       "    <tr style=\"text-align: right;\">\n",
       "      <th></th>\n",
       "      <th>Open-Close</th>\n",
       "      <th>High-Low</th>\n",
       "    </tr>\n",
       "    <tr>\n",
       "      <th>Date</th>\n",
       "      <th></th>\n",
       "      <th></th>\n",
       "    </tr>\n",
       "  </thead>\n",
       "  <tbody>\n",
       "    <tr>\n",
       "      <th>2016-06-22</th>\n",
       "      <td>-8.819946</td>\n",
       "      <td>22.969971</td>\n",
       "    </tr>\n",
       "    <tr>\n",
       "      <th>2016-06-23</th>\n",
       "      <td>4.819946</td>\n",
       "      <td>17.099976</td>\n",
       "    </tr>\n",
       "    <tr>\n",
       "      <th>2016-06-24</th>\n",
       "      <td>-4.400025</td>\n",
       "      <td>39.530030</td>\n",
       "    </tr>\n",
       "    <tr>\n",
       "      <th>2016-06-27</th>\n",
       "      <td>25.569946</td>\n",
       "      <td>32.180054</td>\n",
       "    </tr>\n",
       "    <tr>\n",
       "      <th>2016-06-28</th>\n",
       "      <td>15.960083</td>\n",
       "      <td>22.250000</td>\n",
       "    </tr>\n",
       "  </tbody>\n",
       "</table>\n",
       "</div>"
      ],
      "text/plain": [
       "            Open-Close   High-Low\n",
       "Date                             \n",
       "2016-06-22   -8.819946  22.969971\n",
       "2016-06-23    4.819946  17.099976\n",
       "2016-06-24   -4.400025  39.530030\n",
       "2016-06-27   25.569946  32.180054\n",
       "2016-06-28   15.960083  22.250000"
      ]
     },
     "execution_count": 4,
     "metadata": {},
     "output_type": "execute_result"
    }
   ],
   "source": [
    "# Create predictor variables\n",
    "Df['Open-Close'] = Df.Open - Df.Close\n",
    "Df['High-Low'] = Df.High - Df.Low\n",
    "\n",
    "# Store all predictor variables in a variable X\n",
    "X = Df[['Open-Close', 'High-Low']]\n",
    "X.head()"
   ]
  },
  {
   "cell_type": "markdown",
   "metadata": {},
   "source": [
    "### Define the target variable"
   ]
  },
  {
   "cell_type": "code",
   "execution_count": 5,
   "metadata": {},
   "outputs": [],
   "source": [
    "# Target variables\n",
    "y = np.where(Df['Close'].shift(-1) > Df['Close'], 1, 0)"
   ]
  },
  {
   "cell_type": "markdown",
   "metadata": {},
   "source": [
    "### Split the data into train and test"
   ]
  },
  {
   "cell_type": "code",
   "execution_count": 6,
   "metadata": {},
   "outputs": [],
   "source": [
    "split_percentage = 0.8\n",
    "split = int(split_percentage*len(Df))\n",
    "\n",
    "# Train data set\n",
    "X_train = X[:split]\n",
    "y_train = y[:split]\n",
    "\n",
    "# Test data set\n",
    "X_test = X[split:]\n",
    "y_test = y[split:]"
   ]
  },
  {
   "cell_type": "markdown",
   "metadata": {},
   "source": [
    "### Support Vector Classifier (SVC)"
   ]
  },
  {
   "cell_type": "code",
   "execution_count": 7,
   "metadata": {},
   "outputs": [],
   "source": [
    "# Support vector classifier\n",
    "cls = SVC().fit(X_train, y_train)"
   ]
  },
  {
   "cell_type": "markdown",
   "metadata": {},
   "source": [
    "### Classifier accuracy"
   ]
  },
  {
   "cell_type": "code",
   "execution_count": 8,
   "metadata": {},
   "outputs": [
    {
     "name": "stdout",
     "output_type": "stream",
     "text": [
      "\n",
      "Train Accuracy: 53.56%\n",
      "Test Accuracy: 51.38%\n"
     ]
    }
   ],
   "source": [
    "# train and test accuracy\n",
    "accuracy_train = accuracy_score(y_train, cls.predict(X_train))\n",
    "accuracy_test = accuracy_score(y_test, cls.predict(X_test))\n",
    "\n",
    "print('\\nTrain Accuracy:{: .2f}%'.format(accuracy_train*100))\n",
    "print('Test Accuracy:{: .2f}%'.format(accuracy_test*100))"
   ]
  },
  {
   "cell_type": "markdown",
   "metadata": {},
   "source": [
    "### Strategy implementation"
   ]
  },
  {
   "cell_type": "code",
   "execution_count": 9,
   "metadata": {},
   "outputs": [
    {
     "data": {
      "image/png": "[encoded data removed]",
      "text/plain": [
       "<Figure size 720x504 with 1 Axes>"
      ]
     },
     "metadata": {},
     "output_type": "display_data"
    }
   ],
   "source": [
    "# Predicted Signal\n",
    "Df['Predicted_Signal'] = cls.predict(X)\n",
    "\n",
    "# Calculate daily returns\n",
    "Df['Return'] = Df.Close.pct_change()\n",
    "\n",
    "# Calculate strategy returns\n",
    "Df['Strategy_Return'] = Df.Return * Df.Predicted_Signal.shift(1)\n",
    "\n",
    "# Calculate geometric returns\n",
    "geometric_returns = (Df.Strategy_Return.iloc[split:]+1).cumprod()\n",
    "\n",
    "# Plot geometric returns\n",
    "geometric_returns.plot(figsize=(10, 7),color='g')\n",
    "plt.ylabel(\"Strategy Returns (%)\")\n",
    "plt.xlabel(\"Date\")\n",
    "plt.show()"
   ]
  },
  {
   "cell_type": "code",
   "execution_count": null,
   "metadata": {},
   "outputs": [],
   "source": []
  }
 ],
 "metadata": {
  "kernelspec": {
   "display_name": "Python 3",
   "language": "python",
   "name": "python3"
  },
  "language_info": {
   "codemirror_mode": {
    "name": "ipython",
    "version": 3
   },
   "file_extension": ".py",
   "mimetype": "text/x-python",
   "name": "python",
   "nbconvert_exporter": "python",
   "pygments_lexer": "ipython3",
   "version": "3.7.6"
  }
 },
 "nbformat": 4,
 "nbformat_minor": 4
}
